{
 "cells": [
  {
   "cell_type": "markdown",
   "id": "8ac261d1",
   "metadata": {},
   "source": [
    "## Import Libraries"
   ]
  },
  {
   "cell_type": "code",
   "execution_count": 1,
   "id": "63cacbcf",
   "metadata": {},
   "outputs": [],
   "source": [
    "from sklearn.ensemble import RandomForestClassifier\n",
    "from sklearn.model_selection import RandomizedSearchCV\n",
    "from sklearn.metrics import accuracy_score\n",
    "import numpy as np\n",
    "import pandas as pd"
   ]
  },
  {
   "cell_type": "markdown",
   "id": "1e4d21d7",
   "metadata": {},
   "source": [
    "## Kaggle csv dataset is used, Train-Test split is already there"
   ]
  },
  {
   "cell_type": "code",
   "execution_count": 2,
   "id": "28323912",
   "metadata": {},
   "outputs": [],
   "source": [
    "df = pd.read_csv(\"../mnist_train.csv\")\n",
    "x_train = df.drop([\"label\"], axis = 1)\n",
    "y_train = df[\"label\"]"
   ]
  },
  {
   "cell_type": "code",
   "execution_count": 3,
   "id": "3c34826c",
   "metadata": {},
   "outputs": [],
   "source": [
    "df = pd.read_csv(\"../mnist_test.csv\")\n",
    "x_test = df.drop([\"label\"], axis = 1)\n",
    "y_test = df[\"label\"]"
   ]
  },
  {
   "cell_type": "markdown",
   "id": "48c86301",
   "metadata": {},
   "source": [
    "## Define RandomForest model and parameter grid for hyperparameter tuning"
   ]
  },
  {
   "cell_type": "code",
   "execution_count": 4,
   "id": "b2a003be",
   "metadata": {},
   "outputs": [],
   "source": [
    "rf_model = RandomForestClassifier(random_state=42)\n",
    "params_grid = {'n_estimators': np.arange(10, 100, 10),\n",
    "               'max_depth': [None, 10, 20, 30, 40, 50],\n",
    "               'max_features': ['sqrt', 'log2'],\n",
    "               'min_samples_split': np.arange(2, 10),\n",
    "               'min_samples_leaf': np.arange(1, 10)}"
   ]
  },
  {
   "cell_type": "markdown",
   "id": "0fe87941",
   "metadata": {},
   "source": [
    "## Define RandomizedSearchCV object and fit on training data"
   ]
  },
  {
   "cell_type": "code",
   "execution_count": 6,
   "id": "997f59f0",
   "metadata": {},
   "outputs": [
    {
     "name": "stdout",
     "output_type": "stream",
     "text": [
      "Best hyperparameters: {'n_estimators': 70, 'min_samples_split': 3, 'min_samples_leaf': 1, 'max_features': 'sqrt', 'max_depth': 40}\n",
      "Best mean test score: 96.56%\n"
     ]
    }
   ],
   "source": [
    "rs_cv = RandomizedSearchCV(rf_model, params_grid, cv=5, n_iter=100, random_state=42)\n",
    "rs_cv.fit(x_train, y_train)\n",
    "\n",
    "# Print the best hyperparameters and corresponding mean test score\n",
    "print('Best hyperparameters:', rs_cv.best_params_)\n",
    "print('Best mean test score: {:.2f}%'.format(rs_cv.best_score_*100))"
   ]
  },
  {
   "cell_type": "markdown",
   "id": "35ae96b6",
   "metadata": {},
   "source": [
    "## Predict on test data using the best model"
   ]
  },
  {
   "cell_type": "code",
   "execution_count": 7,
   "id": "e5cdf970",
   "metadata": {},
   "outputs": [],
   "source": [
    "best_model = rs_cv.best_estimator_\n",
    "y_pred = best_model.predict(x_test)"
   ]
  },
  {
   "cell_type": "markdown",
   "id": "fef3a172",
   "metadata": {},
   "source": [
    "## Calculate accuracy score"
   ]
  },
  {
   "cell_type": "code",
   "execution_count": 8,
   "id": "9d100242",
   "metadata": {},
   "outputs": [
    {
     "name": "stdout",
     "output_type": "stream",
     "text": [
      "Accuracy: 96.72%\n"
     ]
    }
   ],
   "source": [
    "accuracy = accuracy_score(y_test, y_pred)\n",
    "print('Accuracy: {:.2f}%'.format(accuracy*100))"
   ]
  },
  {
   "cell_type": "markdown",
   "id": "6d3847b6",
   "metadata": {},
   "source": [
    "## Perform cross-validation"
   ]
  },
  {
   "cell_type": "code",
   "execution_count": null,
   "id": "e2830708",
   "metadata": {},
   "outputs": [],
   "source": [
    "from sklearn.model_selection import cross_val_score\n",
    "cv_scores = cross_val_score(best_model, x_train, y_train, cv=5)"
   ]
  },
  {
   "cell_type": "code",
   "execution_count": 18,
   "id": "72838790",
   "metadata": {},
   "outputs": [
    {
     "name": "stdout",
     "output_type": "stream",
     "text": [
      "0.96555\n"
     ]
    }
   ],
   "source": [
    "def Average(avg):\n",
    "    return sum(avg) / len(avg)\n",
    "\n",
    "average = Average(cv_scores)\n",
    "print(average)"
   ]
  },
  {
   "cell_type": "markdown",
   "id": "7b505a07",
   "metadata": {},
   "source": [
    "## Export pickle file"
   ]
  },
  {
   "cell_type": "code",
   "execution_count": 19,
   "id": "58d5a646",
   "metadata": {},
   "outputs": [],
   "source": [
    "import pickle\n",
    "filename = 'randomforest.pkl'\n",
    "\n",
    "# Dump the model to a pickle file\n",
    "with open(filename, 'wb') as f:\n",
    "    pickle.dump(best_model, f)"
   ]
  }
 ],
 "metadata": {
  "kernelspec": {
   "display_name": "Python 3 (ipykernel)",
   "language": "python",
   "name": "python3"
  },
  "language_info": {
   "codemirror_mode": {
    "name": "ipython",
    "version": 3
   },
   "file_extension": ".py",
   "mimetype": "text/x-python",
   "name": "python",
   "nbconvert_exporter": "python",
   "pygments_lexer": "ipython3",
   "version": "3.10.5"
  }
 },
 "nbformat": 4,
 "nbformat_minor": 5
}
